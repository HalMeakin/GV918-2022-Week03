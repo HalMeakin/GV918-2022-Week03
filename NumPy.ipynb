{
  "cells": [
    {
      "cell_type": "markdown",
      "metadata": {
        "id": "MHE4d-Ptt9Wh"
      },
      "source": [
        "## Import NumPy"
      ]
    },
    {
      "cell_type": "code",
      "execution_count": 1,
      "metadata": {
        "id": "Eq5fIicst5O1"
      },
      "outputs": [],
      "source": [
        "import numpy as np"
      ]
    },
    {
      "cell_type": "markdown",
      "metadata": {
        "id": "UmmODwnnuB8M"
      },
      "source": [
        "## Create NumPy arrays"
      ]
    },
    {
      "cell_type": "markdown",
      "metadata": {
        "id": "jPiQM5eyuksQ"
      },
      "source": [
        "### Create following 1d arrays\n",
        "\n",
        "```\n",
        "array([0, 1, 2, 3, 4, 5, 6, 7, 8, 9])\n",
        "\n",
        "array([  1,   2,   3,   4,   5,   6,   7,   8,   9,  10,  11,  12,  13,\n",
        "        14,  15,  16,  17,  18,  19,  20,  21,  22,  23,  24,  25,  26,\n",
        "        27,  28,  29,  30,  31,  32,  33,  34,  35,  36,  37,  38,  39,\n",
        "        40,  41,  42,  43,  44,  45,  46,  47,  48,  49,  50,  51,  52,\n",
        "        53,  54,  55,  56,  57,  58,  59,  60,  61,  62,  63,  64,  65,\n",
        "        66,  67,  68,  69,  70,  71,  72,  73,  74,  75,  76,  77,  78,\n",
        "        79,  80,  81,  82,  83,  84,  85,  86,  87,  88,  89,  90,  91,\n",
        "        92,  93,  94,  95,  96,  97,  98,  99, 100])\n",
        "\n",
        "array([1., 1., 1., 1., 1.])\n",
        "\n",
        "```\n"
      ]
    },
    {
      "cell_type": "code",
      "execution_count": 6,
      "metadata": {
        "id": "_JDeQYayuWyQ",
        "colab": {
          "base_uri": "https://localhost:8080/"
        },
        "outputId": "7f800dc6-d39c-49f3-ad87-352001be973c"
      },
      "outputs": [
        {
          "output_type": "execute_result",
          "data": {
            "text/plain": [
              "array([0, 1, 2, 3, 4, 5, 6, 7, 8, 9])"
            ]
          },
          "metadata": {},
          "execution_count": 6
        }
      ],
      "source": [
        "arr_1 = np.array([0, 1, 2, 3, 4, 5, 6, 7, 8, 9])\n",
        "arr_1"
      ]
    },
    {
      "cell_type": "code",
      "source": [
        "arr_2 = np.array(range(1,101))\n",
        "arr_2"
      ],
      "metadata": {
        "colab": {
          "base_uri": "https://localhost:8080/"
        },
        "id": "IPU1j2vAiciU",
        "outputId": "5f5740f7-cab6-412d-8a05-cbd415471633"
      },
      "execution_count": 8,
      "outputs": [
        {
          "output_type": "execute_result",
          "data": {
            "text/plain": [
              "array([  1,   2,   3,   4,   5,   6,   7,   8,   9,  10,  11,  12,  13,\n",
              "        14,  15,  16,  17,  18,  19,  20,  21,  22,  23,  24,  25,  26,\n",
              "        27,  28,  29,  30,  31,  32,  33,  34,  35,  36,  37,  38,  39,\n",
              "        40,  41,  42,  43,  44,  45,  46,  47,  48,  49,  50,  51,  52,\n",
              "        53,  54,  55,  56,  57,  58,  59,  60,  61,  62,  63,  64,  65,\n",
              "        66,  67,  68,  69,  70,  71,  72,  73,  74,  75,  76,  77,  78,\n",
              "        79,  80,  81,  82,  83,  84,  85,  86,  87,  88,  89,  90,  91,\n",
              "        92,  93,  94,  95,  96,  97,  98,  99, 100])"
            ]
          },
          "metadata": {},
          "execution_count": 8
        }
      ]
    },
    {
      "cell_type": "code",
      "source": [
        "arr_3 = np.ones(5)\n",
        "arr_3"
      ],
      "metadata": {
        "colab": {
          "base_uri": "https://localhost:8080/"
        },
        "id": "M6034IaojKQ3",
        "outputId": "1b14fdb4-f317-4d34-90c5-9c0711ed1538"
      },
      "execution_count": 10,
      "outputs": [
        {
          "output_type": "execute_result",
          "data": {
            "text/plain": [
              "array([1., 1., 1., 1., 1.])"
            ]
          },
          "metadata": {},
          "execution_count": 10
        }
      ]
    },
    {
      "cell_type": "markdown",
      "metadata": {
        "id": "3gxN51KiuXT4"
      },
      "source": [
        "### Create following 2d arrays\n",
        "\n",
        "```\n",
        "array([[31, 22, 48],\n",
        "       [52, 33, 40],\n",
        "       [72,  8, 37]])\n",
        "\n",
        "array([[0., 0., 0., 0., 0.],\n",
        "       [0., 0., 0., 0., 0.],\n",
        "       [0., 0., 0., 0., 0.],\n",
        "       [0., 0., 0., 0., 0.]])\n",
        "\n",
        "array([[ 0,  1,  2,  3],\n",
        "       [ 4,  5,  6,  7],\n",
        "       [ 8,  9, 10, 11],\n",
        "       [12, 13, 14, 15],\n",
        "       [16, 17, 18, 19],\n",
        "       [20, 21, 22, 23]])\n",
        "\n",
        "```"
      ]
    },
    {
      "cell_type": "code",
      "execution_count": 13,
      "metadata": {
        "id": "0ed7y1ozuVg7",
        "colab": {
          "base_uri": "https://localhost:8080/"
        },
        "outputId": "61457f75-b7bd-4765-dff1-aa0c2ef9cb02"
      },
      "outputs": [
        {
          "output_type": "execute_result",
          "data": {
            "text/plain": [
              "array([[31, 22, 48],\n",
              "       [52, 33, 40],\n",
              "       [72,  8, 37]])"
            ]
          },
          "metadata": {},
          "execution_count": 13
        }
      ],
      "source": [
        "arr_2d1 = np.array([[31, 22, 48], [52, 33, 40], [72,  8, 37]])\n",
        "arr_2d1"
      ]
    },
    {
      "cell_type": "code",
      "source": [
        "arr_2d2 = np.zeros([4,5])\n",
        "arr_2d2"
      ],
      "metadata": {
        "colab": {
          "base_uri": "https://localhost:8080/"
        },
        "id": "n6eB0G_okN9Q",
        "outputId": "5fc50213-8c8c-4734-d090-b2435e46ef47"
      },
      "execution_count": 52,
      "outputs": [
        {
          "output_type": "execute_result",
          "data": {
            "text/plain": [
              "array([[0., 0., 0., 0., 0.],\n",
              "       [0., 0., 0., 0., 0.],\n",
              "       [0., 0., 0., 0., 0.],\n",
              "       [0., 0., 0., 0., 0.]])"
            ]
          },
          "metadata": {},
          "execution_count": 52
        }
      ]
    },
    {
      "cell_type": "code",
      "source": [
        "arr_2d3 = np.arange(0,24).reshape([6,4])\n",
        "arr_2d3"
      ],
      "metadata": {
        "colab": {
          "base_uri": "https://localhost:8080/"
        },
        "id": "dhrE24_ykoF1",
        "outputId": "fca0f251-15b5-4b90-9aea-1d756bdc59f9"
      },
      "execution_count": 26,
      "outputs": [
        {
          "output_type": "execute_result",
          "data": {
            "text/plain": [
              "array([[ 0,  1,  2,  3],\n",
              "       [ 4,  5,  6,  7],\n",
              "       [ 8,  9, 10, 11],\n",
              "       [12, 13, 14, 15],\n",
              "       [16, 17, 18, 19],\n",
              "       [20, 21, 22, 23]])"
            ]
          },
          "metadata": {},
          "execution_count": 26
        }
      ]
    },
    {
      "cell_type": "markdown",
      "metadata": {
        "id": "UndpTevKwPfi"
      },
      "source": [
        "### Generate arrays with random numbers\n",
        "\n",
        "- 1d array with 10 numbers from random uniform distribution\n",
        "- 1d array with 25 numbers from normal distribution\n",
        "- 4 x 5 array from random integer in [0, 100]"
      ]
    },
    {
      "cell_type": "code",
      "execution_count": 43,
      "metadata": {
        "id": "aOfOmouhvlXu",
        "colab": {
          "base_uri": "https://localhost:8080/"
        },
        "outputId": "bf7c5da4-7788-4b73-f167-e6737c37d4b5"
      },
      "outputs": [
        {
          "output_type": "execute_result",
          "data": {
            "text/plain": [
              "array([6.82569177e-01, 5.59808989e-01, 4.26472046e-01, 5.55582554e-01,\n",
              "       6.65874926e-01, 1.07608553e-01, 7.86650249e-01, 2.18070981e-01,\n",
              "       9.15877938e-01, 6.16833633e-04])"
            ]
          },
          "metadata": {},
          "execution_count": 43
        }
      ],
      "source": [
        "np.random.rand(10)"
      ]
    },
    {
      "cell_type": "code",
      "source": [
        "np.random.randn(25)"
      ],
      "metadata": {
        "colab": {
          "base_uri": "https://localhost:8080/"
        },
        "id": "G8dznSNlm1BP",
        "outputId": "c5dc0c33-d18e-4a9d-e2e0-afe48312f72b"
      },
      "execution_count": 45,
      "outputs": [
        {
          "output_type": "execute_result",
          "data": {
            "text/plain": [
              "array([ 0.69843096, -0.01463927,  1.25820628, -0.13030345, -0.29346877,\n",
              "       -1.75968305,  0.09222097,  1.01632855, -1.19914998, -1.40230167,\n",
              "       -2.38014121, -2.13510077, -0.03910937, -0.46644506, -0.16438884,\n",
              "       -0.64501914,  1.2988567 , -1.11720684,  0.03489392, -0.67490458,\n",
              "       -1.62469368, -0.02188025, -1.55974506,  0.47641031,  1.65110248])"
            ]
          },
          "metadata": {},
          "execution_count": 45
        }
      ]
    },
    {
      "cell_type": "code",
      "source": [
        "np.random.randint(0,101, [4,5])"
      ],
      "metadata": {
        "colab": {
          "base_uri": "https://localhost:8080/"
        },
        "id": "RioOd4g1n4vy",
        "outputId": "a608910c-8711-4b8e-ee28-ae8f628d47fc"
      },
      "execution_count": 53,
      "outputs": [
        {
          "output_type": "execute_result",
          "data": {
            "text/plain": [
              "array([[ 1, 56, 20, 75, 73],\n",
              "       [99, 50, 87, 55, 13],\n",
              "       [ 5, 76, 17,  8, 85],\n",
              "       [72, 35, 82, 91,  4]])"
            ]
          },
          "metadata": {},
          "execution_count": 53
        }
      ]
    },
    {
      "cell_type": "markdown",
      "metadata": {
        "id": "9SeTuV27ba77"
      },
      "source": [
        "## Array Indexing\n"
      ]
    },
    {
      "cell_type": "markdown",
      "metadata": {
        "id": "x5yIpaijg5TU"
      },
      "source": [
        "\n",
        "### 1d array indexing \n",
        "\n",
        "- From the following array, extract the elements shown below "
      ]
    },
    {
      "cell_type": "code",
      "execution_count": 54,
      "metadata": {
        "id": "b5uC3m9Qbcy0"
      },
      "outputs": [],
      "source": [
        "arr_1d = np.array([41, 42, 43, 44, 45, 46, 47, 48, 49, 50, 51, 52, \n",
        "                   53, 54, 55, 56, 57, 58, 59, 60])"
      ]
    },
    {
      "cell_type": "markdown",
      "metadata": {
        "id": "8hizvuB7c44I"
      },
      "source": [
        "1. \n",
        "    ```\n",
        "    array([41, 42, 43, 44])\n",
        "    ```\n",
        "1. \n",
        "    ```\n",
        "    array([56, 57, 58, 59, 60])\n",
        "    ```\n",
        "1. \n",
        "    ```\n",
        "    array([51, 52, 53])\n",
        "    ```\n",
        "1. \n",
        "    ```\n",
        "    array([42, 55, 49])\n",
        "    ```\n"
      ]
    },
    {
      "cell_type": "code",
      "source": [
        "arr_1d[:4]"
      ],
      "metadata": {
        "id": "zhTDPvrkqB83",
        "outputId": "81721d32-c94d-4683-b81f-7e99d97ff9a6",
        "colab": {
          "base_uri": "https://localhost:8080/"
        }
      },
      "execution_count": 56,
      "outputs": [
        {
          "output_type": "execute_result",
          "data": {
            "text/plain": [
              "array([41, 42, 43, 44])"
            ]
          },
          "metadata": {},
          "execution_count": 56
        }
      ]
    },
    {
      "cell_type": "code",
      "source": [
        "arr_1d[15:]"
      ],
      "metadata": {
        "id": "DR1CHRzDqLF9",
        "outputId": "bb3e36e9-4d5a-474f-f384-c21247f76df0",
        "colab": {
          "base_uri": "https://localhost:8080/"
        }
      },
      "execution_count": 58,
      "outputs": [
        {
          "output_type": "execute_result",
          "data": {
            "text/plain": [
              "array([56, 57, 58, 59, 60])"
            ]
          },
          "metadata": {},
          "execution_count": 58
        }
      ]
    },
    {
      "cell_type": "code",
      "source": [
        "arr_1d[10:13]"
      ],
      "metadata": {
        "id": "YgtBoed2qSg6",
        "outputId": "eeb2fff6-6251-49ba-f328-bb65c7ac8f59",
        "colab": {
          "base_uri": "https://localhost:8080/"
        }
      },
      "execution_count": 59,
      "outputs": [
        {
          "output_type": "execute_result",
          "data": {
            "text/plain": [
              "array([51, 52, 53])"
            ]
          },
          "metadata": {},
          "execution_count": 59
        }
      ]
    },
    {
      "cell_type": "code",
      "source": [],
      "metadata": {
        "id": "_WTA7TApqXCs"
      },
      "execution_count": null,
      "outputs": []
    },
    {
      "cell_type": "markdown",
      "metadata": {
        "id": "Z-1IJ3bpgzO1"
      },
      "source": [
        "### 2d array indexing\n",
        "\n",
        "- Do the same task for the following 2d array\n"
      ]
    },
    {
      "cell_type": "code",
      "execution_count": 61,
      "metadata": {
        "id": "uDXhuohCbrTN"
      },
      "outputs": [],
      "source": [
        "arr_2d = np.array([[11, 12, 13, 14, 15],\n",
        "       [21, 22, 23, 24, 25],\n",
        "       [31, 32, 33, 34, 35],\n",
        "       [41, 42, 43, 44, 45]])"
      ]
    },
    {
      "cell_type": "markdown",
      "source": [],
      "metadata": {
        "id": "FNb4nPBZqe9L"
      }
    },
    {
      "cell_type": "markdown",
      "metadata": {
        "id": "W1TgSJBEll7E"
      },
      "source": [
        "Using indexing, generate the following sub-arrays\n",
        "\n",
        "1. \n",
        "    ```\n",
        "    array([[31, 32, 33, 34, 35],\n",
        "          [41, 42, 43, 44, 45]])\n",
        "    ```\n",
        "1. \n",
        "    ```\n",
        "    array([[11, 12],\n",
        "          [21, 22],\n",
        "          [31, 32],\n",
        "          [41, 42]])    \n",
        "    ```\n",
        "1. \n",
        "    ```\n",
        "    array([[32, 33],\n",
        "           [42, 43]])\n",
        "    ```\n",
        "1. \n",
        "    ```\n",
        "    array([[23, 25],\n",
        "          [43, 45]])    \n",
        "    ```\n"
      ]
    },
    {
      "cell_type": "code",
      "source": [
        "arr_2d[2:5]"
      ],
      "metadata": {
        "id": "a3UALDHHqntO",
        "outputId": "4bb26dd9-2b69-4ec3-938c-9fe7f3f5e511",
        "colab": {
          "base_uri": "https://localhost:8080/"
        }
      },
      "execution_count": 62,
      "outputs": [
        {
          "output_type": "execute_result",
          "data": {
            "text/plain": [
              "array([[31, 32, 33, 34, 35],\n",
              "       [41, 42, 43, 44, 45]])"
            ]
          },
          "metadata": {},
          "execution_count": 62
        }
      ]
    },
    {
      "cell_type": "code",
      "source": [
        "arr_2d[:,0:2]"
      ],
      "metadata": {
        "id": "ao1qEn2iqxy6",
        "outputId": "b4e61202-935f-41b3-e651-8ab421b8c070",
        "colab": {
          "base_uri": "https://localhost:8080/"
        }
      },
      "execution_count": 64,
      "outputs": [
        {
          "output_type": "execute_result",
          "data": {
            "text/plain": [
              "array([[11, 12],\n",
              "       [21, 22],\n",
              "       [31, 32],\n",
              "       [41, 42]])"
            ]
          },
          "metadata": {},
          "execution_count": 64
        }
      ]
    },
    {
      "cell_type": "code",
      "source": [
        "arr_2d[2:4, :][:, 1:3]"
      ],
      "metadata": {
        "id": "TLvF-_3bq6EH",
        "outputId": "482d5350-29e8-4b04-e1af-98b76136c9aa",
        "colab": {
          "base_uri": "https://localhost:8080/"
        }
      },
      "execution_count": 65,
      "outputs": [
        {
          "output_type": "execute_result",
          "data": {
            "text/plain": [
              "array([[32, 33],\n",
              "       [42, 43]])"
            ]
          },
          "metadata": {},
          "execution_count": 65
        }
      ]
    },
    {
      "cell_type": "code",
      "source": [
        "arr_2d"
      ],
      "metadata": {
        "id": "yBHYe6WtrY56"
      },
      "execution_count": null,
      "outputs": []
    },
    {
      "cell_type": "markdown",
      "metadata": {
        "id": "w9WRZ5QKmbF2"
      },
      "source": []
    },
    {
      "cell_type": "code",
      "execution_count": 66,
      "metadata": {
        "id": "N5qSNNoVnGWS"
      },
      "outputs": [],
      "source": [
        "arr_int = np.array([-448,  754,  990,   18, -689,  641, -199,  -44, -557, -222,  -18,\n",
        "       -687,  -69,  106,  821,  628, -427, -269, -624, -478,  886,  841,\n",
        "        999,   99,  964, -312,   42,  186,  298,  170, -441,  761,  900,\n",
        "       -207,  626, -322, -351,  169,  523, -131, -508,  181,  714,  171,\n",
        "       -131,  525,  810, -173,  424, -265,  242,  313,   57,  423,  685,\n",
        "        -16,  732,  372,  661,  654, -106,  443,  281, -125,  523,  476,\n",
        "        525,  577,  938, -140,  333,  180, -348,  591, -135,  961,  805,\n",
        "       -488, -422,  538, -433,  873,  568, -202, -181,  986,  769, -682,\n",
        "       -645,  883, -529,  -27,  656,  153, -165, -242, -678,  635, -135,\n",
        "        364])"
      ]
    },
    {
      "cell_type": "markdown",
      "metadata": {
        "id": "Zo6WfmKAmfwL"
      },
      "source": [
        "For the array above, find the following numbers\n",
        " - The max/min number\n",
        " - Standard deviation of the array\n",
        " - Mean \n"
      ]
    },
    {
      "cell_type": "code",
      "execution_count": 67,
      "metadata": {
        "id": "eJln6H1bmaNH",
        "colab": {
          "base_uri": "https://localhost:8080/"
        },
        "outputId": "f79034df-e25b-493b-a238-32a8f60e8d16"
      },
      "outputs": [
        {
          "output_type": "execute_result",
          "data": {
            "text/plain": [
              "999"
            ]
          },
          "metadata": {},
          "execution_count": 67
        }
      ],
      "source": [
        "np.max(arr_int)"
      ]
    },
    {
      "cell_type": "code",
      "source": [
        "np.min(arr_int)"
      ],
      "metadata": {
        "id": "nR34M26Wr4CM",
        "outputId": "3072b49d-02b9-428c-c624-d30cbe320cb3",
        "colab": {
          "base_uri": "https://localhost:8080/"
        }
      },
      "execution_count": 68,
      "outputs": [
        {
          "output_type": "execute_result",
          "data": {
            "text/plain": [
              "-689"
            ]
          },
          "metadata": {},
          "execution_count": 68
        }
      ]
    },
    {
      "cell_type": "code",
      "source": [
        "np.std(arr_int)"
      ],
      "metadata": {
        "id": "IjTR7oPgr6nR",
        "outputId": "8eca9a89-ba51-4aa3-bf0f-81b64a0a61e2",
        "colab": {
          "base_uri": "https://localhost:8080/"
        }
      },
      "execution_count": 70,
      "outputs": [
        {
          "output_type": "execute_result",
          "data": {
            "text/plain": [
              "494.33985991420917"
            ]
          },
          "metadata": {},
          "execution_count": 70
        }
      ]
    },
    {
      "cell_type": "code",
      "source": [
        "np.mean(arr_int)"
      ],
      "metadata": {
        "id": "B4gqZ3OhsB8o",
        "outputId": "7df112ed-14b4-4394-8360-5564f4654171",
        "colab": {
          "base_uri": "https://localhost:8080/"
        }
      },
      "execution_count": 71,
      "outputs": [
        {
          "output_type": "execute_result",
          "data": {
            "text/plain": [
              "181.73"
            ]
          },
          "metadata": {},
          "execution_count": 71
        }
      ]
    },
    {
      "cell_type": "markdown",
      "metadata": {
        "id": "olADoo_SnvoJ"
      },
      "source": [
        "## Array Operations (2d)\n"
      ]
    },
    {
      "cell_type": "code",
      "execution_count": null,
      "metadata": {
        "id": "Gl5NVNOtn3kq"
      },
      "outputs": [],
      "source": [
        "arr_normal = np.array([[-1.35589711,  0.32804138, -0.42081221, -0.26130734,  0.70162537,\n",
        "        -2.74984249,  0.68124585, -0.1580792 , -0.14275744,  0.46342884,\n",
        "         0.86430316, -0.07669887],\n",
        "       [-0.74704059, -0.9071367 , -1.64174011,  0.03933122,  0.37675907,\n",
        "         1.90269555,  0.44306442,  0.57069955, -0.28930021, -1.65834518,\n",
        "         0.91165489, -0.24778658],\n",
        "       [ 0.84422231, -2.61441156, -0.25364573,  0.75980507,  0.81245918,\n",
        "         0.4495238 , -1.73419967,  0.06119128,  0.20092236, -0.02241897,\n",
        "        -0.35468241, -1.10875505],\n",
        "       [-1.2590743 , -1.798422  ,  0.29824561,  0.61399003, -2.84641582,\n",
        "        -0.06309182, -0.86245245, -2.00527547, -1.36537977,  1.81020212,\n",
        "         0.15409758,  0.77957902],\n",
        "       [ 0.33642384,  1.6658424 ,  1.01517418, -0.94632536, -0.67836296,\n",
        "        -1.58780134, -1.71699404,  0.19439649,  0.16351275, -2.08961948,\n",
        "        -0.67480237, -0.98241524],\n",
        "       [-0.97960876,  0.7256977 ,  0.2322489 , -0.79256359, -0.86636526,\n",
        "         1.01071361,  0.06147106,  0.31257068,  0.54583426, -0.8035504 ,\n",
        "         0.73390521,  0.05112845],\n",
        "       [-0.17791452, -0.92611399,  0.27351997,  0.25378587,  0.78804843,\n",
        "        -1.06393523,  2.65299826, -0.91232348, -2.93197926,  1.73152395,\n",
        "         0.59431283, -0.10374418],\n",
        "       [ 0.57609783,  0.51063139, -0.06848566,  2.65524085,  0.90236844,\n",
        "        -0.63241958,  0.99904813, -0.6191799 ,  0.44955157, -1.99264591,\n",
        "        -0.94398059, -0.68643509],\n",
        "       [ 0.0329195 , -0.64513047,  0.46339352,  0.22950196,  1.03883248,\n",
        "         2.09548912,  0.91148567, -1.05809727, -2.82315242, -1.24258192,\n",
        "         0.32577142, -0.56579935],\n",
        "       [ 0.76420142,  0.4468688 ,  0.69440669, -0.69501969,  0.99550496,\n",
        "         0.04774205, -0.38475403, -0.34571432, -1.54386284,  2.93070093,\n",
        "         0.55347872, -0.90081639]])"
      ]
    },
    {
      "cell_type": "markdown",
      "metadata": {
        "id": "3XUvKcjepR2f"
      },
      "source": [
        "For the array above, find the following numbers\n",
        " - The max/min number \n",
        "    - in the entire array\n",
        "    - in each row\n",
        "    - in each column\n",
        " - Mean of \n",
        "    - the entire array\n",
        "    - each row \n",
        "    - each column\n"
      ]
    },
    {
      "cell_type": "code",
      "execution_count": null,
      "metadata": {
        "id": "c7H25CyqxEnT"
      },
      "outputs": [],
      "source": []
    }
  ],
  "metadata": {
    "colab": {
      "collapsed_sections": [],
      "name": "Week 03 Class - NumPy.ipynb",
      "provenance": [],
      "toc_visible": true
    },
    "kernelspec": {
      "display_name": "Python 3 (ipykernel)",
      "language": "python",
      "name": "python3"
    },
    "language_info": {
      "codemirror_mode": {
        "name": "ipython",
        "version": 3
      },
      "file_extension": ".py",
      "mimetype": "text/x-python",
      "name": "python",
      "nbconvert_exporter": "python",
      "pygments_lexer": "ipython3",
      "version": "3.8.10"
    }
  },
  "nbformat": 4,
  "nbformat_minor": 0
}