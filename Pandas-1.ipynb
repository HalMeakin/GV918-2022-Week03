{
 "cells": [
  {
   "cell_type": "markdown",
   "metadata": {
    "id": "gwL4xynVtpcn"
   },
   "source": [
    "# Description\n",
    "\n",
    "In this exercise, we will use economic growth data taken from AER package in R. https://www.rdocumentation.org/packages/AER/versions/1.2-9/topics/GrowthDJ\n",
    "\n",
    "The purpose of this exercise is to explore the determinant of the **gdpgrowth**.\n"
   ]
  },
  {
   "cell_type": "markdown",
   "metadata": {
    "id": "6o78bcVGsHOM"
   },
   "source": [
    "#### Variables\n",
    "\n",
    "- **oil**: Is the country an oil-producing country?\n",
    "- **inter**: Does the country have better quality data?\n",
    "- **oecd**: Is the country a member of the OECD?\n",
    "- **gdp60**: Per capita GDP in 1960.\n",
    "- **gdp85**: Per capita GDP in 1985.\n",
    "- **gdpgrowth**: Average growth rate of per capita GDP from 1960 to 1985 (in percent).\n",
    "- **popgrowth**: Average growth rate of working-age population 1960 to 1985 (in percent).\n",
    "- **invest**: Average ratio of investment (including Government Investment) to GDP from 1960 to 1985 (in percent).\n",
    "- **school**: Average fraction of working-age population enrolled in secondary school from 1960 to 1985 (in percent).\n"
   ]
  },
  {
   "cell_type": "code",
   "execution_count": 2,
   "metadata": {
    "id": "7ff-t7vYrol1"
   },
   "outputs": [],
   "source": [
    "import pandas as pd\n",
    "import numpy as np"
   ]
  },
  {
   "cell_type": "markdown",
   "metadata": {
    "id": "X1NW4Hhnujue"
   },
   "source": [
    "# Read the data"
   ]
  },
  {
   "cell_type": "code",
   "execution_count": 5,
   "metadata": {
    "id": "-WZdU34rkf-o"
   },
   "outputs": [],
   "source": [
    "url = 'https://vincentarelbundock.github.io/Rdatasets/csv/AER/GrowthDJ.csv'\n",
    "df = pd.read_csv(url)"
   ]
  },
  {
   "cell_type": "markdown",
   "metadata": {
    "id": "jETT7kI9vgko"
   },
   "source": [
    "# Data wrangling"
   ]
  },
  {
   "cell_type": "markdown",
   "metadata": {
    "id": "-vC4TRVaupdK"
   },
   "source": [
    "#### Check the data dimensionality using `.shape`"
   ]
  },
  {
   "cell_type": "code",
   "execution_count": null,
   "metadata": {
    "id": "xY1rzdrGkidc"
   },
   "outputs": [],
   "source": []
  },
  {
   "cell_type": "markdown",
   "metadata": {
    "id": "oLO_c9P0uuYc"
   },
   "source": [
    "#### How many rows with missing values?\n",
    "\n",
    "- check the funcitonality of `.isna()` and `.dropna()`"
   ]
  },
  {
   "cell_type": "code",
   "execution_count": null,
   "metadata": {
    "id": "wWyeUjZ5kjzq"
   },
   "outputs": [],
   "source": []
  },
  {
   "cell_type": "markdown",
   "metadata": {
    "id": "_7yPHtheu5iv"
   },
   "source": [
    "#### We in the end drop the rows with missing values..."
   ]
  },
  {
   "cell_type": "code",
   "execution_count": null,
   "metadata": {
    "id": "R0AndpvEklNp"
   },
   "outputs": [],
   "source": []
  },
  {
   "cell_type": "markdown",
   "metadata": {
    "id": "8jQe_Bujv8Jd"
   },
   "source": [
    "# Data Subsetting\n",
    "\n",
    "Try craeting following datasets\n",
    "\n",
    "- OECD countries\n",
    "- Countries with a literacy rate better than average \n",
    " "
   ]
  },
  {
   "cell_type": "code",
   "execution_count": null,
   "metadata": {
    "id": "A2yHmlavknAm"
   },
   "outputs": [],
   "source": []
  },
  {
   "cell_type": "markdown",
   "metadata": {
    "id": "ot2YTr6nvqrL"
   },
   "source": [
    "# Data Exploration"
   ]
  },
  {
   "cell_type": "markdown",
   "metadata": {
    "id": "rGOFp_39vSFy"
   },
   "source": [
    "#### Calculate the mean and standard deviation of the `gdpgrowth`"
   ]
  },
  {
   "cell_type": "code",
   "execution_count": null,
   "metadata": {
    "id": "xzPSGjZCkoLF"
   },
   "outputs": [],
   "source": []
  },
  {
   "cell_type": "markdown",
   "metadata": {
    "id": "hHLPb-uIwRYO"
   },
   "source": [
    "#### Run `.describe()` to see the data description"
   ]
  },
  {
   "cell_type": "code",
   "execution_count": null,
   "metadata": {
    "id": "aqzYriFzkpU3"
   },
   "outputs": [],
   "source": []
  },
  {
   "cell_type": "markdown",
   "metadata": {
    "id": "J9-25wbvvpe_"
   },
   "source": [
    "#### Calculate the group averages\n",
    "\n",
    "- For each categorical variables (`oil`, `inter`, `oecd`), calcurate the mean of `gdpgrowth`"
   ]
  },
  {
   "cell_type": "code",
   "execution_count": null,
   "metadata": {
    "id": "BoJ_7UADkqdJ"
   },
   "outputs": [],
   "source": []
  },
  {
   "cell_type": "markdown",
   "metadata": {
    "id": "fHCDf2WfvCm3"
   },
   "source": [
    "#### Calculate the correlation between `gdpgrowth` and possible explanatory variables"
   ]
  },
  {
   "cell_type": "code",
   "execution_count": null,
   "metadata": {
    "id": "Ec8WMNsXkrLH"
   },
   "outputs": [],
   "source": []
  }
 ],
 "metadata": {
  "colab": {
   "collapsed_sections": [],
   "provenance": [],
   "toc_visible": true
  },
  "kernelspec": {
   "display_name": "Python 3 (ipykernel)",
   "language": "python",
   "name": "python3"
  },
  "language_info": {
   "codemirror_mode": {
    "name": "ipython",
    "version": 3
   },
   "file_extension": ".py",
   "mimetype": "text/x-python",
   "name": "python",
   "nbconvert_exporter": "python",
   "pygments_lexer": "ipython3",
   "version": "3.8.10"
  }
 },
 "nbformat": 4,
 "nbformat_minor": 4
}
